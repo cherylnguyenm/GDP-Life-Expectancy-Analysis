{
 "cells": [
  {
   "attachments": {},
   "cell_type": "markdown",
   "metadata": {},
   "source": [
    "# <b>Denison CS181/DA210 Final Project</b> \n",
    "## Deliverable #3: Data Storage and Analysis\n",
    "#### Cheryl Nguyen, Minh Le\n",
    "#### Dr. Amert\n",
    "#### April 21th, 2023"
   ]
  },
  {
   "cell_type": "code",
   "execution_count": 1,
   "metadata": {},
   "outputs": [],
   "source": [
    "import os\n",
    "import io\n",
    "import sys\n",
    "import importlib\n",
    "import pandas as pd\n",
    "from lxml import etree\n",
    "import requests\n",
    "from IPython.display import Image\n",
    "import plotly.express as px\n",
    "import os.path\n",
    "\n",
    "htmlparser =  etree.HTMLParser()\n",
    "\n",
    "module_dir = os.path.join(\"..\", \"..\", \"modules\")\n",
    "module_path = os.path.abspath(module_dir)\n",
    "if not module_path in sys.path:\n",
    "    sys.path.append(module_path)\n",
    "\n",
    "import util\n",
    "importlib.reload(util)\n",
    "\n",
    "import json\n",
    "import sqlalchemy as sa\n",
    "\n",
    "datadir = \"data\"\n",
    "\n",
    "%load_ext sql"
   ]
  },
  {
   "attachments": {},
   "cell_type": "markdown",
   "metadata": {},
   "source": [
    "---"
   ]
  },
  {
   "attachments": {},
   "cell_type": "markdown",
   "metadata": {},
   "source": [
    "We have updated our `data_acquisition.ipynb` file due to an additional file `countries.csv`. Hence, we will provide the `Reasons for Elibility` again.\n",
    "\n",
    "#### <b>Reasons for Eligibility</b>:\n",
    "\n",
    "- The life expectancy dataset is taken from Wikipedia. According to the Copyrights section in Terms of Use (https://en.wikipedia.org/wiki/Wikipedia:Copyrights#Guidelines_for_images_and_other_media_files), texts on Wikipedia are co-licensed under the Creative Commons Attribution-ShareAlike 3.0 Unported License (CC BY-SA) and the GNU Free Documentation License (GFDL). These licenses allow users to have free access to information stored in Wikipedia, and in turn, they can copy, modify, and redistribute it.\n",
    "\n",
    "- As regards the GDP per capita dataset, we have inspected the Data Access and Licensing page of The World Bank (https://datacatalog.worldbank.org/public-licenses#cc-by) and learned that the database provided on this website earns the Creative Commons Attribution 4.0 (CC-BY 4.0) International license. By integrating this license, the provider enables web users to “copy, modify and distribute data in any format for any purpose, including commercial use.” (The World Bank) To increase the certainty, we also referred to the overall Terms of Use (https://www.worldbank.org/en/about/legal/terms-of-use-for-datasets), which claims to allow users to “extract, download, and make copies of the data contained in the Datasets.” In other words, we can use the data in this course, which is for educational purposes. \n",
    "\n",
    "- The csv file named `countries.csv` is taken from the website of `denison.edu` (http://datasystems.denison.edu/data.html) under the `Tabular Data` section. This file is eligible to use because it originates from an education website owned by Denison University. Indeed, the location of the URL is `denison.edu`. As we are using this file for pure educational purposes in a project assigned by a Denison professor during school year, we have the ability to use it and modify it within the scope of this project only.\n",
    "\n",
    "---"
   ]
  },
  {
   "attachments": {},
   "cell_type": "markdown",
   "metadata": {},
   "source": [
    "# <font color='gold'><b>Part 1: Database Walkthrough</b></font>\n",
    "\n",
    "In this part, we will summarize how the data is stored in the database along with the queries used to access that data.\n",
    "\n",
    "### <b>1. Database Design</b>\n",
    "\n",
    "`indicators`: \n",
    "- Primary key: `country_and_area` (singleton)\n",
    "- Fields: `region`, `gdp_per_capita`, `life`\n",
    "\n",
    "### <b>2. Set Credentials and Build a Connection</b>"
   ]
  },
  {
   "cell_type": "code",
   "execution_count": 2,
   "metadata": {},
   "outputs": [],
   "source": [
    "def getsqlite_creds(dirname=\".\",filename=\"creds.json\",source=\"sqlite\"):\n",
    "    \"\"\" Using directory and filename parameters, open a credentials file\n",
    "        and obtain the two parts needed for a connection string to\n",
    "        a local provider using the \"sqlite\" dictionary within\n",
    "        an outer dictionary.  \n",
    "        \n",
    "        Return a scheme and a dbfile\n",
    "    \"\"\"\n",
    "    assert os.path.isfile(os.path.join(dirname, filename))\n",
    "    with open(os.path.join(dirname, filename)) as f:\n",
    "        D = json.load(f)\n",
    "    sqlite = D[source]\n",
    "    return sqlite[\"scheme\"], sqlite[\"dbdir\"], sqlite[\"database\"]\n"
   ]
  },
  {
   "cell_type": "code",
   "execution_count": 3,
   "metadata": {},
   "outputs": [],
   "source": [
    "def buildConnectionString(source=\"sqlite_country\"):\n",
    "    scheme, dbdir, database = getsqlite_creds(source=source)\n",
    "    template = '{}:///{}/{}.db'\n",
    "    return template.format(scheme, dbdir, database)"
   ]
  },
  {
   "cell_type": "code",
   "execution_count": 4,
   "metadata": {},
   "outputs": [
    {
     "name": "stdout",
     "output_type": "stream",
     "text": [
      "Connection string: sqlite:///./country.db\n"
     ]
    }
   ],
   "source": [
    "# Build the conection string\n",
    "cstring = buildConnectionString(\"sqlite_country\")\n",
    "print(\"Connection string:\", cstring)\n",
    "\n",
    "# Connect to the database\n",
    "engine = sa.create_engine(cstring)\n",
    "connection = engine.connect()"
   ]
  },
  {
   "cell_type": "code",
   "execution_count": 5,
   "metadata": {},
   "outputs": [],
   "source": [
    "%sql $cstring \n"
   ]
  },
  {
   "attachments": {},
   "cell_type": "markdown",
   "metadata": {},
   "source": [
    "---"
   ]
  },
  {
   "attachments": {},
   "cell_type": "markdown",
   "metadata": {},
   "source": [
    "# <font color='silver'><b>Part 2: Data Analysis</b></font>\n",
    "\n",
    "In this part, we will execute advanced SQL statements to acquire necessary data for the analysis. The answer to our central question <b>Does GDP per capita have a relationship with the life expectancy of countries in the world?</b> will be provided at the end of the analysis.\n",
    "\n",
    "First, we will draw a scatter plot with a linear regression line showing the correlation between GDP per capita and life expectancy of the countries. To do this, we have to use an SQL query to acquire a DataFrame as a resource for plotting."
   ]
  },
  {
   "cell_type": "code",
   "execution_count": 6,
   "metadata": {},
   "outputs": [
    {
     "data": {
      "text/html": [
       "<div>\n",
       "<style scoped>\n",
       "    .dataframe tbody tr th:only-of-type {\n",
       "        vertical-align: middle;\n",
       "    }\n",
       "\n",
       "    .dataframe tbody tr th {\n",
       "        vertical-align: top;\n",
       "    }\n",
       "\n",
       "    .dataframe thead th {\n",
       "        text-align: right;\n",
       "    }\n",
       "</style>\n",
       "<table border=\"1\" class=\"dataframe\">\n",
       "  <thead>\n",
       "    <tr style=\"text-align: right;\">\n",
       "      <th></th>\n",
       "      <th>country_and_area</th>\n",
       "      <th>region</th>\n",
       "      <th>gdp_per_capita</th>\n",
       "      <th>life</th>\n",
       "    </tr>\n",
       "  </thead>\n",
       "  <tbody>\n",
       "    <tr>\n",
       "      <th>0</th>\n",
       "      <td>Aruba</td>\n",
       "      <td>Latin America &amp; Caribbean</td>\n",
       "      <td>29342.100858</td>\n",
       "      <td>74.6</td>\n",
       "    </tr>\n",
       "    <tr>\n",
       "      <th>1</th>\n",
       "      <td>Afghanistan</td>\n",
       "      <td>South Asia</td>\n",
       "      <td>368.754614</td>\n",
       "      <td>62.0</td>\n",
       "    </tr>\n",
       "    <tr>\n",
       "      <th>2</th>\n",
       "      <td>Angola</td>\n",
       "      <td>Sub-Saharan Africa</td>\n",
       "      <td>1953.533757</td>\n",
       "      <td>61.6</td>\n",
       "    </tr>\n",
       "    <tr>\n",
       "      <th>3</th>\n",
       "      <td>Albania</td>\n",
       "      <td>Europe &amp; Central Asia</td>\n",
       "      <td>6492.872012</td>\n",
       "      <td>76.5</td>\n",
       "    </tr>\n",
       "    <tr>\n",
       "      <th>4</th>\n",
       "      <td>Andorra</td>\n",
       "      <td>Europe &amp; Central Asia</td>\n",
       "      <td>42137.327271</td>\n",
       "      <td>80.4</td>\n",
       "    </tr>\n",
       "    <tr>\n",
       "      <th>5</th>\n",
       "      <td>United Arab Emirates</td>\n",
       "      <td>Middle East &amp; North Africa</td>\n",
       "      <td>44315.554183</td>\n",
       "      <td>78.7</td>\n",
       "    </tr>\n",
       "    <tr>\n",
       "      <th>6</th>\n",
       "      <td>Argentina</td>\n",
       "      <td>Latin America &amp; Caribbean</td>\n",
       "      <td>10636.120196</td>\n",
       "      <td>75.4</td>\n",
       "    </tr>\n",
       "    <tr>\n",
       "      <th>7</th>\n",
       "      <td>Armenia</td>\n",
       "      <td>Europe &amp; Central Asia</td>\n",
       "      <td>4966.513471</td>\n",
       "      <td>72.0</td>\n",
       "    </tr>\n",
       "    <tr>\n",
       "      <th>8</th>\n",
       "      <td>American Samoa</td>\n",
       "      <td>East Asia &amp; Pacific</td>\n",
       "      <td>15743.310758</td>\n",
       "      <td>72.5</td>\n",
       "    </tr>\n",
       "    <tr>\n",
       "      <th>9</th>\n",
       "      <td>Antigua and Barbuda</td>\n",
       "      <td>Latin America &amp; Caribbean</td>\n",
       "      <td>15781.395702</td>\n",
       "      <td>78.5</td>\n",
       "    </tr>\n",
       "  </tbody>\n",
       "</table>\n",
       "</div>"
      ],
      "text/plain": [
       "       country_and_area                      region  gdp_per_capita  life\n",
       "0                 Aruba   Latin America & Caribbean    29342.100858  74.6\n",
       "1           Afghanistan                  South Asia      368.754614  62.0\n",
       "2                Angola          Sub-Saharan Africa     1953.533757  61.6\n",
       "3               Albania       Europe & Central Asia     6492.872012  76.5\n",
       "4               Andorra       Europe & Central Asia    42137.327271  80.4\n",
       "5  United Arab Emirates  Middle East & North Africa    44315.554183  78.7\n",
       "6             Argentina   Latin America & Caribbean    10636.120196  75.4\n",
       "7               Armenia       Europe & Central Asia     4966.513471  72.0\n",
       "8        American Samoa         East Asia & Pacific    15743.310758  72.5\n",
       "9   Antigua and Barbuda   Latin America & Caribbean    15781.395702  78.5"
      ]
     },
     "execution_count": 6,
     "metadata": {},
     "output_type": "execute_result"
    }
   ],
   "source": [
    "query1 = \"\"\"\n",
    "SELECT * \n",
    "FROM indicators\n",
    "WHERE gdp_per_capita IS NOT NULL and life IS NOT NULL\n",
    "\"\"\"\n",
    "\n",
    "df1 = pd.read_sql_query(query1, con=connection)\n",
    "df1.head(10)"
   ]
  },
  {
   "cell_type": "code",
   "execution_count": 7,
   "metadata": {},
   "outputs": [],
   "source": [
    "def life_gdp(data):\n",
    "    \"\"\"\n",
    "    Creates a plot showing the relationship between\n",
    "    GDP per capita and life expectancy\n",
    "    \"\"\"\n",
    "    data.rename(columns={'gdp_per_capita': 'GDP Per Capita', 'life': 'Life Expectancy'}, inplace=True)\n",
    "    fig = px.scatter(data, x = \"GDP Per Capita\", y = \"Life Expectancy\", \n",
    "                    title = \"Relationship between GDP Per Capita and Life Expectancy\", \n",
    "                    hover_name = 'country_and_area', size_max = 20, trendline = 'ols', trendline_color_override = \"red\")\n",
    "    fig.show()"
   ]
  },
  {
   "cell_type": "code",
   "execution_count": 8,
   "metadata": {},
   "outputs": [
    {
     "data": {
      "application/vnd.plotly.v1+json": {
       "config": {
        "plotlyServerURL": "https://plot.ly"
       },
       "data": [
        {
         "hovertemplate": "<b>%{hovertext}</b><br><br>GDP Per Capita=%{x}<br>Life Expectancy=%{y}<extra></extra>",
         "hovertext": [
          "Aruba",
          "Afghanistan",
          "Angola",
          "Albania",
          "Andorra",
          "United Arab Emirates",
          "Argentina",
          "Armenia",
          "American Samoa",
          "Antigua and Barbuda",
          "Australia",
          "Austria",
          "Azerbaijan",
          "Burundi",
          "Belgium",
          "Benin",
          "Burkina Faso",
          "Bangladesh",
          "Bulgaria",
          "Bahrain",
          "Bosnia and Herzegovina",
          "Belarus",
          "Belize",
          "Bermuda",
          "Bolivia",
          "Brazil",
          "Barbados",
          "Bhutan",
          "Botswana",
          "Central African Republic",
          "Canada",
          "Switzerland",
          "Chile",
          "China",
          "Cameroon",
          "Colombia",
          "Comoros",
          "Costa Rica",
          "Curacao",
          "Cayman Islands",
          "Cyprus",
          "Germany",
          "Djibouti",
          "Dominica",
          "Denmark",
          "Dominican Republic",
          "Algeria",
          "Ecuador",
          "Spain",
          "Estonia",
          "Ethiopia",
          "Finland",
          "Fiji",
          "France",
          "Faroe Islands",
          "Gabon",
          "United Kingdom",
          "Georgia",
          "Ghana",
          "Guinea",
          "Guinea-Bissau",
          "Equatorial Guinea",
          "Greece",
          "Grenada",
          "Guatemala",
          "Guam",
          "Guyana",
          "Hong Kong",
          "Honduras",
          "Croatia",
          "Haiti",
          "Hungary",
          "Indonesia",
          "India",
          "Ireland",
          "Iran",
          "Iraq",
          "Iceland",
          "Israel",
          "Italy",
          "Jamaica",
          "Jordan",
          "Japan",
          "Kazakhstan",
          "Kenya",
          "Cambodia",
          "Kiribati",
          "Saint Kitts and Nevis",
          "Lebanon",
          "Liberia",
          "Libya",
          "Sri Lanka",
          "Lesotho",
          "Lithuania",
          "Luxembourg",
          "Latvia",
          "Morocco",
          "Monaco",
          "Moldova",
          "Madagascar",
          "Maldives",
          "Mexico",
          "Marshall Islands",
          "North Macedonia",
          "Mali",
          "Malta",
          "Myanmar",
          "Montenegro",
          "Mongolia",
          "Mozambique",
          "Mauritania",
          "Mauritius",
          "Malawi",
          "Malaysia",
          "Namibia",
          "New Caledonia",
          "Niger",
          "Nigeria",
          "Nicaragua",
          "Netherlands",
          "Norway",
          "Nepal",
          "Nauru",
          "New Zealand",
          "Oman",
          "Pakistan",
          "Panama",
          "Peru",
          "Philippines",
          "Palau",
          "Papua New Guinea",
          "Poland",
          "Puerto Rico",
          "Portugal",
          "Paraguay",
          "French Polynesia",
          "Qatar",
          "Romania",
          "Rwanda",
          "Saudi Arabia",
          "Sudan",
          "Senegal",
          "Singapore",
          "Solomon Islands",
          "Sierra Leone",
          "El Salvador",
          "Somalia",
          "Serbia",
          "Sao Tome and Principe",
          "Suriname",
          "Slovenia",
          "Sweden",
          "Eswatini",
          "Seychelles",
          "Turks and Caicos Islands",
          "Chad",
          "Togo",
          "Thailand",
          "Tajikistan",
          "Tonga",
          "Trinidad and Tobago",
          "Tunisia",
          "Turkey",
          "Tuvalu",
          "Tanzania",
          "Uganda",
          "Ukraine",
          "Uruguay",
          "United States",
          "Uzbekistan",
          "Vietnam",
          "Vanuatu",
          "Samoa",
          "Kosovo",
          "South Africa",
          "Zambia",
          "Zimbabwe"
         ],
         "legendgroup": "",
         "marker": {
          "color": "#636efa",
          "symbol": "circle"
         },
         "mode": "markers",
         "name": "",
         "orientation": "v",
         "showlegend": false,
         "type": "scatter",
         "x": [
          29342.1008575886,
          368.754614175459,
          1953.53375721508,
          6492.87201224634,
          42137.3272710372,
          44315.5541834116,
          10636.1201956183,
          4966.51347122366,
          15743.3107582991,
          15781.3957017982,
          60443.1091649968,
          53637.7057109897,
          5387.99797495383,
          221.477676223363,
          51247.0143531626,
          1319.1549945174,
          893.077155776863,
          2457.92487986361,
          12221.4966064171,
          26562.9691354026,
          7143.3105484321,
          7302.25779418774,
          6228.26730928353,
          114090.328338579,
          3345.19658873831,
          7507.16097080234,
          17225.4623044097,
          3266.36490519183,
          6805.22127398897,
          461.137490166508,
          51987.9390529728,
          91991.6004583563,
          16265.0959767147,
          12556.3331200058,
          1666.93273443122,
          6104.1367093039,
          1577.47102705052,
          12472.4437294954,
          17717.5964802588,
          86568.7696368603,
          31551.81640625,
          51203.5544731043,
          3150.43672926335,
          7653.17187042868,
          68007.7566732954,
          8476.75215730978,
          3690.62787797599,
          5965.13287054416,
          30103.513733191,
          27943.701219882,
          925.077428048534,
          53654.7502964259,
          4646.6127232145,
          43658.9789781222,
          69010.3098011151,
          8635.32569443437,
          46510.2827819127,
          5023.27437961979,
          2363.29929621422,
          1189.17599946631,
          795.118569260485,
          7506.66752306086,
          20192.5963039061,
          9010.57224466261,
          5025.5422907779,
          35904.8635462723,
          9998.54431136155,
          49800.5424137576,
          2771.71746050946,
          17685.3252834553,
          1829.59304417211,
          18728.1218948689,
          4332.70928089396,
          2256.59040870506,
          100172.079253421,
          4091.20918670534,
          4775.3774539013,
          68727.636664709,
          52170.7118623335,
          35657.4975631691,
          5183.58130458676,
          4103.25896599583,
          39312.6603730693,
          10373.7897924367,
          2081.79985458438,
          1625.23501955454,
          1606.46251377314,
          18082.6101907478,
          4136.14634699332,
          675.66318584916,
          6357.19555043805,
          4013.68765683604,
          1094.09818489303,
          23723.3402510345,
          133590.146975586,
          21148.1629405415,
          3795.38012695313,
          234315.460503547,
          5230.66173289497,
          500.511031950657,
          10366.2933584066,
          10045.6805004963,
          6172.14506539834,
          6694.64112581709,
          873.794862375503,
          33486.671983855,
          1209.92694225482,
          9465.70399879557,
          4566.14015433014,
          491.839112773674,
          2166.04679858214,
          9106.23720230699,
          634.835660105302,
          11109.2618387745,
          4865.55776470864,
          37159.5467662165,
          590.629454795899,
          2065.74906750923,
          2045.53540189014,
          57767.8788108173,
          89154.2760934922,
          1208.21853383767,
          10648.1413901852,
          48781.0266328884,
          19509.4664633867,
          1505.01019279429,
          14617.6044816372,
          6621.57433601881,
          3460.53096344408,
          12083.8881491345,
          2672.94579035518,
          17999.9099495446,
          32640.710335631,
          24567.5092651,
          5891.49996504641,
          19914.6035133645,
          66838.357433014,
          14858.2294290445,
          822.3479885942,
          23185.8707917797,
          751.821350097656,
          1636.89320864296,
          72794.0030226738,
          2304.84456746354,
          480.039211301066,
          4551.18466141298,
          446.981559635259,
          9230.17831602601,
          2360.54355385897,
          4869.13422621242,
          29291.4006234431,
          61028.7380600287,
          3978.4035281759,
          14653.3093943039,
          20908.5827016004,
          685.690284124456,
          973.206129076133,
          7066.19054595323,
          897.047510293411,
          4426.00063706281,
          16032.5027680992,
          3807.13915027254,
          9661.23597511355,
          5632.00299343641,
          1099.28759765625,
          883.892032311279,
          4835.57177734375,
          17313.1883484186,
          70248.6290002242,
          1983.06472288992,
          3756.48912117326,
          2996.62106154483,
          3857.31846401804,
          5269.78390114389,
          7055.04477598783,
          1137.34363269164,
          1773.92041088078
         ],
         "xaxis": "x",
         "y": [
          74.6,
          62,
          61.6,
          76.5,
          80.4,
          78.7,
          75.4,
          72,
          72.5,
          78.5,
          84.5,
          81.6,
          69.4,
          61.7,
          81.9,
          59.8,
          59.3,
          72.4,
          71.8,
          78.8,
          75.3,
          72.4,
          70.5,
          79.3,
          63.6,
          72.8,
          77.6,
          71.8,
          61.1,
          53.9,
          82.7,
          84,
          78.9,
          78.2,
          60.3,
          72.8,
          63.4,
          77,
          75.4,
          75.1,
          81.2,
          80.6,
          62.3,
          72.8,
          81.4,
          72.6,
          76.4,
          73.7,
          83,
          77.1,
          65,
          82,
          67.1,
          82.5,
          79.3,
          65.8,
          80.7,
          71.7,
          63.8,
          58.9,
          59.7,
          60.6,
          80.1,
          74.9,
          69.2,
          76.7,
          65.7,
          85.5,
          70.1,
          77.6,
          63.2,
          74.5,
          67.6,
          67.2,
          82,
          73.9,
          70.4,
          82.7,
          82.3,
          82.9,
          70.5,
          74.3,
          84.8,
          69.4,
          61.4,
          69.6,
          67.4,
          71.7,
          75,
          60.7,
          71.9,
          76.4,
          53.1,
          73.7,
          82.6,
          73.6,
          74,
          85.9,
          68.8,
          64.5,
          79.9,
          70.2,
          65.3,
          73.8,
          58.9,
          83.8,
          65.7,
          76.3,
          71,
          59.3,
          64.4,
          73.6,
          62.9,
          74.9,
          59.3,
          79,
          61.6,
          52.7,
          73.8,
          81.7,
          83.2,
          68.4,
          63.6,
          82.5,
          72.5,
          66.1,
          76.2,
          72.4,
          69.3,
          66,
          65.4,
          76.5,
          80.2,
          81,
          70.3,
          79.5,
          79.3,
          74.2,
          66.1,
          76.9,
          65.3,
          67.1,
          82.8,
          70.3,
          60.1,
          70.7,
          55.3,
          74.2,
          67.6,
          70.3,
          80.7,
          83,
          57.1,
          71.3,
          74.6,
          52.5,
          61.6,
          78.7,
          71.6,
          71,
          73,
          73.8,
          76,
          64.5,
          66.2,
          62.7,
          71.6,
          75.4,
          77.2,
          70.9,
          73.6,
          70.4,
          72.8,
          76.8,
          62.3,
          61.2,
          59.3
         ],
         "yaxis": "y"
        },
        {
         "hovertemplate": "<b>OLS trendline</b><br>Life Expectancy = 0.000166885 * GDP Per Capita + 68.6357<br>R<sup>2</sup>=0.389801<br><br>GDP Per Capita=%{x}<br>Life Expectancy=%{y} <b>(trend)</b><extra></extra>",
         "legendgroup": "",
         "line": {
          "color": "red"
         },
         "marker": {
          "color": "#636efa",
          "symbol": "circle"
         },
         "mode": "lines",
         "name": "",
         "showlegend": false,
         "type": "scatter",
         "x": [
          221.477676223363,
          368.754614175459,
          446.981559635259,
          461.137490166508,
          480.039211301066,
          491.839112773674,
          500.511031950657,
          590.629454795899,
          634.835660105302,
          675.66318584916,
          685.690284124456,
          751.821350097656,
          795.118569260485,
          822.3479885942,
          873.794862375503,
          883.892032311279,
          893.077155776863,
          897.047510293411,
          925.077428048534,
          973.206129076133,
          1094.09818489303,
          1099.28759765625,
          1137.34363269164,
          1189.17599946631,
          1208.21853383767,
          1209.92694225482,
          1319.1549945174,
          1505.01019279429,
          1577.47102705052,
          1606.46251377314,
          1625.23501955454,
          1636.89320864296,
          1666.93273443122,
          1773.92041088078,
          1829.59304417211,
          1953.53375721508,
          1983.06472288992,
          2045.53540189014,
          2065.74906750923,
          2081.79985458438,
          2166.04679858214,
          2256.59040870506,
          2304.84456746354,
          2360.54355385897,
          2363.29929621422,
          2457.92487986361,
          2672.94579035518,
          2771.71746050946,
          2996.62106154483,
          3150.43672926335,
          3266.36490519183,
          3345.19658873831,
          3460.53096344408,
          3690.62787797599,
          3756.48912117326,
          3795.38012695313,
          3807.13915027254,
          3857.31846401804,
          3978.4035281759,
          4013.68765683604,
          4091.20918670534,
          4103.25896599583,
          4136.14634699332,
          4332.70928089396,
          4426.00063706281,
          4551.18466141298,
          4566.14015433014,
          4646.6127232145,
          4775.3774539013,
          4835.57177734375,
          4865.55776470864,
          4869.13422621242,
          4966.51347122366,
          5023.27437961979,
          5025.5422907779,
          5183.58130458676,
          5230.66173289497,
          5269.78390114389,
          5387.99797495383,
          5632.00299343641,
          5891.49996504641,
          5965.13287054416,
          6104.1367093039,
          6172.14506539834,
          6228.26730928353,
          6357.19555043805,
          6492.87201224634,
          6621.57433601881,
          6694.64112581709,
          6805.22127398897,
          7055.04477598783,
          7066.19054595323,
          7143.3105484321,
          7302.25779418774,
          7506.66752306086,
          7507.16097080234,
          7653.17187042868,
          8476.75215730978,
          8635.32569443437,
          9010.57224466261,
          9106.23720230699,
          9230.17831602601,
          9465.70399879557,
          9661.23597511355,
          9998.54431136155,
          10045.6805004963,
          10366.2933584066,
          10373.7897924367,
          10636.1201956183,
          10648.1413901852,
          11109.2618387745,
          12083.8881491345,
          12221.4966064171,
          12472.4437294954,
          12556.3331200058,
          14617.6044816372,
          14653.3093943039,
          14858.2294290445,
          15743.3107582991,
          15781.3957017982,
          16032.5027680992,
          16265.0959767147,
          17225.4623044097,
          17313.1883484186,
          17685.3252834553,
          17717.5964802588,
          17999.9099495446,
          18082.6101907478,
          18728.1218948689,
          19509.4664633867,
          19914.6035133645,
          20192.5963039061,
          20908.5827016004,
          21148.1629405415,
          23185.8707917797,
          23723.3402510345,
          24567.5092651,
          26562.9691354026,
          27943.701219882,
          29291.4006234431,
          29342.1008575886,
          30103.513733191,
          31551.81640625,
          32640.710335631,
          33486.671983855,
          35657.4975631691,
          35904.8635462723,
          37159.5467662165,
          39312.6603730693,
          42137.3272710372,
          43658.9789781222,
          44315.5541834116,
          46510.2827819127,
          48781.0266328884,
          49800.5424137576,
          51203.5544731043,
          51247.0143531626,
          51987.9390529728,
          52170.7118623335,
          53637.7057109897,
          53654.7502964259,
          57767.8788108173,
          60443.1091649968,
          61028.7380600287,
          66838.357433014,
          68007.7566732954,
          68727.636664709,
          69010.3098011151,
          70248.6290002242,
          72794.0030226738,
          86568.7696368603,
          89154.2760934922,
          91991.6004583563,
          100172.079253421,
          114090.328338579,
          133590.146975586,
          234315.460503547
         ],
         "xaxis": "x",
         "y": [
          68.67267165638495,
          68.6972500266085,
          68.71030496143878,
          68.71266737952197,
          68.71582180075295,
          68.71779103199191,
          68.71923824866442,
          68.73427769741622,
          68.74165506752848,
          68.74846858536092,
          68.75014196163494,
          68.76117827081795,
          68.76840394441649,
          68.77294813686551,
          68.7815338688085,
          68.78321893901936,
          68.7847518019932,
          68.78541439618196,
          68.79009218012764,
          68.79812415749412,
          68.8182992761941,
          68.81916531340202,
          68.82551630990798,
          68.83416637500211,
          68.83734429590596,
          68.83762940432248,
          68.85585797116151,
          68.88687448966563,
          68.89896714473994,
          68.90380540050427,
          68.90693825757975,
          68.90888383909126,
          68.91389699727088,
          68.93175167810347,
          68.94104262759889,
          68.96172652266962,
          68.96665480959294,
          68.97708025364368,
          68.98045361925047,
          68.9831322612198,
          68.99719184589458,
          69.0123022521939,
          69.02035516662357,
          69.02965051406723,
          69.03011040722355,
          69.0459020352944,
          69.08178588525321,
          69.09826943461543,
          69.13580256130669,
          69.1614721500416,
          69.18081886967694,
          69.19397472646276,
          69.21322234934544,
          69.25162216422007,
          69.26261344392206,
          69.26910378485198,
          69.27106619412413,
          69.27944038880764,
          69.29964771778118,
          69.3055361235919,
          69.3184733348615,
          69.32048426705924,
          69.32597269068536,
          69.35877617389743,
          69.37434513888583,
          69.39523652445736,
          69.39773237782656,
          69.41116207441303,
          69.43265102758222,
          69.44269658113254,
          69.44770080453112,
          69.44829766372818,
          69.46454883766795,
          69.47402140438602,
          69.47439988563946,
          69.50077428916231,
          69.50863132512009,
          69.51516024369037,
          69.53488844630061,
          69.5756093206212,
          69.61891557568602,
          69.6312038323345,
          69.65440154311692,
          69.66575114460665,
          69.67511712754441,
          69.69663336822289,
          69.71927578838259,
          69.74075432674913,
          69.7529481069545,
          69.7714023188558,
          69.81309421310654,
          69.8149542793494,
          69.82782448156112,
          69.85435045573276,
          69.88846345443709,
          69.8885458036592,
          69.91291289057445,
          70.05035641351327,
          70.07682002117174,
          70.13944319058892,
          70.1554082750013,
          70.17609223693903,
          70.2153980339549,
          70.24802946540174,
          70.30432130092652,
          70.31218764255196,
          70.36569324655026,
          70.36694429191766,
          70.4107234053345,
          70.4127295671593,
          70.4896838361757,
          70.65233473467163,
          70.67529957666258,
          70.71717898686296,
          70.73117890108215,
          71.0751749900954,
          71.08113361861203,
          71.11533177991352,
          71.26303892870992,
          71.2693947496163,
          71.31130085200486,
          71.35011726190804,
          71.51038837753914,
          71.52502857319965,
          71.58713279325183,
          71.59251838473425,
          71.63963238006635,
          71.65343384263159,
          71.76116031948624,
          71.89155531780861,
          71.95916677513581,
          72.00555971228141,
          72.12504738633449,
          72.16502982956571,
          72.50509351279798,
          72.59478931675142,
          72.73566879759517,
          73.06868190976672,
          73.29910593150258,
          73.52401728117738,
          73.5324784098685,
          73.65954709971062,
          73.9012476659308,
          74.08296816136371,
          74.22414680667025,
          74.58642589476807,
          74.62770766500286,
          74.83709597196977,
          75.19641919051601,
          75.66781484649464,
          75.92175629536011,
          76.03132910899677,
          76.39759726193536,
          76.77655125044288,
          76.94669354603502,
          77.18083577021638,
          77.18808858954299,
          77.31173810203916,
          77.34224021484603,
          77.58706006532164,
          77.58990455772474,
          78.27632564176858,
          78.72278252084682,
          78.8205154313476,
          79.79005606542545,
          79.98521172160916,
          80.1053491795949,
          80.15252319811705,
          80.35918058897433,
          80.78396634261019,
          83.08277373427758,
          83.51425700511486,
          83.9877650074784,
          85.35296745686914,
          87.67571997763254,
          90.92995494759269,
          107.73953885935374
         ],
         "yaxis": "y"
        }
       ],
       "layout": {
        "legend": {
         "tracegroupgap": 0
        },
        "template": {
         "data": {
          "bar": [
           {
            "error_x": {
             "color": "#2a3f5f"
            },
            "error_y": {
             "color": "#2a3f5f"
            },
            "marker": {
             "line": {
              "color": "#E5ECF6",
              "width": 0.5
             },
             "pattern": {
              "fillmode": "overlay",
              "size": 10,
              "solidity": 0.2
             }
            },
            "type": "bar"
           }
          ],
          "barpolar": [
           {
            "marker": {
             "line": {
              "color": "#E5ECF6",
              "width": 0.5
             },
             "pattern": {
              "fillmode": "overlay",
              "size": 10,
              "solidity": 0.2
             }
            },
            "type": "barpolar"
           }
          ],
          "carpet": [
           {
            "aaxis": {
             "endlinecolor": "#2a3f5f",
             "gridcolor": "white",
             "linecolor": "white",
             "minorgridcolor": "white",
             "startlinecolor": "#2a3f5f"
            },
            "baxis": {
             "endlinecolor": "#2a3f5f",
             "gridcolor": "white",
             "linecolor": "white",
             "minorgridcolor": "white",
             "startlinecolor": "#2a3f5f"
            },
            "type": "carpet"
           }
          ],
          "choropleth": [
           {
            "colorbar": {
             "outlinewidth": 0,
             "ticks": ""
            },
            "type": "choropleth"
           }
          ],
          "contour": [
           {
            "colorbar": {
             "outlinewidth": 0,
             "ticks": ""
            },
            "colorscale": [
             [
              0,
              "#0d0887"
             ],
             [
              0.1111111111111111,
              "#46039f"
             ],
             [
              0.2222222222222222,
              "#7201a8"
             ],
             [
              0.3333333333333333,
              "#9c179e"
             ],
             [
              0.4444444444444444,
              "#bd3786"
             ],
             [
              0.5555555555555556,
              "#d8576b"
             ],
             [
              0.6666666666666666,
              "#ed7953"
             ],
             [
              0.7777777777777778,
              "#fb9f3a"
             ],
             [
              0.8888888888888888,
              "#fdca26"
             ],
             [
              1,
              "#f0f921"
             ]
            ],
            "type": "contour"
           }
          ],
          "contourcarpet": [
           {
            "colorbar": {
             "outlinewidth": 0,
             "ticks": ""
            },
            "type": "contourcarpet"
           }
          ],
          "heatmap": [
           {
            "colorbar": {
             "outlinewidth": 0,
             "ticks": ""
            },
            "colorscale": [
             [
              0,
              "#0d0887"
             ],
             [
              0.1111111111111111,
              "#46039f"
             ],
             [
              0.2222222222222222,
              "#7201a8"
             ],
             [
              0.3333333333333333,
              "#9c179e"
             ],
             [
              0.4444444444444444,
              "#bd3786"
             ],
             [
              0.5555555555555556,
              "#d8576b"
             ],
             [
              0.6666666666666666,
              "#ed7953"
             ],
             [
              0.7777777777777778,
              "#fb9f3a"
             ],
             [
              0.8888888888888888,
              "#fdca26"
             ],
             [
              1,
              "#f0f921"
             ]
            ],
            "type": "heatmap"
           }
          ],
          "heatmapgl": [
           {
            "colorbar": {
             "outlinewidth": 0,
             "ticks": ""
            },
            "colorscale": [
             [
              0,
              "#0d0887"
             ],
             [
              0.1111111111111111,
              "#46039f"
             ],
             [
              0.2222222222222222,
              "#7201a8"
             ],
             [
              0.3333333333333333,
              "#9c179e"
             ],
             [
              0.4444444444444444,
              "#bd3786"
             ],
             [
              0.5555555555555556,
              "#d8576b"
             ],
             [
              0.6666666666666666,
              "#ed7953"
             ],
             [
              0.7777777777777778,
              "#fb9f3a"
             ],
             [
              0.8888888888888888,
              "#fdca26"
             ],
             [
              1,
              "#f0f921"
             ]
            ],
            "type": "heatmapgl"
           }
          ],
          "histogram": [
           {
            "marker": {
             "pattern": {
              "fillmode": "overlay",
              "size": 10,
              "solidity": 0.2
             }
            },
            "type": "histogram"
           }
          ],
          "histogram2d": [
           {
            "colorbar": {
             "outlinewidth": 0,
             "ticks": ""
            },
            "colorscale": [
             [
              0,
              "#0d0887"
             ],
             [
              0.1111111111111111,
              "#46039f"
             ],
             [
              0.2222222222222222,
              "#7201a8"
             ],
             [
              0.3333333333333333,
              "#9c179e"
             ],
             [
              0.4444444444444444,
              "#bd3786"
             ],
             [
              0.5555555555555556,
              "#d8576b"
             ],
             [
              0.6666666666666666,
              "#ed7953"
             ],
             [
              0.7777777777777778,
              "#fb9f3a"
             ],
             [
              0.8888888888888888,
              "#fdca26"
             ],
             [
              1,
              "#f0f921"
             ]
            ],
            "type": "histogram2d"
           }
          ],
          "histogram2dcontour": [
           {
            "colorbar": {
             "outlinewidth": 0,
             "ticks": ""
            },
            "colorscale": [
             [
              0,
              "#0d0887"
             ],
             [
              0.1111111111111111,
              "#46039f"
             ],
             [
              0.2222222222222222,
              "#7201a8"
             ],
             [
              0.3333333333333333,
              "#9c179e"
             ],
             [
              0.4444444444444444,
              "#bd3786"
             ],
             [
              0.5555555555555556,
              "#d8576b"
             ],
             [
              0.6666666666666666,
              "#ed7953"
             ],
             [
              0.7777777777777778,
              "#fb9f3a"
             ],
             [
              0.8888888888888888,
              "#fdca26"
             ],
             [
              1,
              "#f0f921"
             ]
            ],
            "type": "histogram2dcontour"
           }
          ],
          "mesh3d": [
           {
            "colorbar": {
             "outlinewidth": 0,
             "ticks": ""
            },
            "type": "mesh3d"
           }
          ],
          "parcoords": [
           {
            "line": {
             "colorbar": {
              "outlinewidth": 0,
              "ticks": ""
             }
            },
            "type": "parcoords"
           }
          ],
          "pie": [
           {
            "automargin": true,
            "type": "pie"
           }
          ],
          "scatter": [
           {
            "marker": {
             "colorbar": {
              "outlinewidth": 0,
              "ticks": ""
             }
            },
            "type": "scatter"
           }
          ],
          "scatter3d": [
           {
            "line": {
             "colorbar": {
              "outlinewidth": 0,
              "ticks": ""
             }
            },
            "marker": {
             "colorbar": {
              "outlinewidth": 0,
              "ticks": ""
             }
            },
            "type": "scatter3d"
           }
          ],
          "scattercarpet": [
           {
            "marker": {
             "colorbar": {
              "outlinewidth": 0,
              "ticks": ""
             }
            },
            "type": "scattercarpet"
           }
          ],
          "scattergeo": [
           {
            "marker": {
             "colorbar": {
              "outlinewidth": 0,
              "ticks": ""
             }
            },
            "type": "scattergeo"
           }
          ],
          "scattergl": [
           {
            "marker": {
             "colorbar": {
              "outlinewidth": 0,
              "ticks": ""
             }
            },
            "type": "scattergl"
           }
          ],
          "scattermapbox": [
           {
            "marker": {
             "colorbar": {
              "outlinewidth": 0,
              "ticks": ""
             }
            },
            "type": "scattermapbox"
           }
          ],
          "scatterpolar": [
           {
            "marker": {
             "colorbar": {
              "outlinewidth": 0,
              "ticks": ""
             }
            },
            "type": "scatterpolar"
           }
          ],
          "scatterpolargl": [
           {
            "marker": {
             "colorbar": {
              "outlinewidth": 0,
              "ticks": ""
             }
            },
            "type": "scatterpolargl"
           }
          ],
          "scatterternary": [
           {
            "marker": {
             "colorbar": {
              "outlinewidth": 0,
              "ticks": ""
             }
            },
            "type": "scatterternary"
           }
          ],
          "surface": [
           {
            "colorbar": {
             "outlinewidth": 0,
             "ticks": ""
            },
            "colorscale": [
             [
              0,
              "#0d0887"
             ],
             [
              0.1111111111111111,
              "#46039f"
             ],
             [
              0.2222222222222222,
              "#7201a8"
             ],
             [
              0.3333333333333333,
              "#9c179e"
             ],
             [
              0.4444444444444444,
              "#bd3786"
             ],
             [
              0.5555555555555556,
              "#d8576b"
             ],
             [
              0.6666666666666666,
              "#ed7953"
             ],
             [
              0.7777777777777778,
              "#fb9f3a"
             ],
             [
              0.8888888888888888,
              "#fdca26"
             ],
             [
              1,
              "#f0f921"
             ]
            ],
            "type": "surface"
           }
          ],
          "table": [
           {
            "cells": {
             "fill": {
              "color": "#EBF0F8"
             },
             "line": {
              "color": "white"
             }
            },
            "header": {
             "fill": {
              "color": "#C8D4E3"
             },
             "line": {
              "color": "white"
             }
            },
            "type": "table"
           }
          ]
         },
         "layout": {
          "annotationdefaults": {
           "arrowcolor": "#2a3f5f",
           "arrowhead": 0,
           "arrowwidth": 1
          },
          "autotypenumbers": "strict",
          "coloraxis": {
           "colorbar": {
            "outlinewidth": 0,
            "ticks": ""
           }
          },
          "colorscale": {
           "diverging": [
            [
             0,
             "#8e0152"
            ],
            [
             0.1,
             "#c51b7d"
            ],
            [
             0.2,
             "#de77ae"
            ],
            [
             0.3,
             "#f1b6da"
            ],
            [
             0.4,
             "#fde0ef"
            ],
            [
             0.5,
             "#f7f7f7"
            ],
            [
             0.6,
             "#e6f5d0"
            ],
            [
             0.7,
             "#b8e186"
            ],
            [
             0.8,
             "#7fbc41"
            ],
            [
             0.9,
             "#4d9221"
            ],
            [
             1,
             "#276419"
            ]
           ],
           "sequential": [
            [
             0,
             "#0d0887"
            ],
            [
             0.1111111111111111,
             "#46039f"
            ],
            [
             0.2222222222222222,
             "#7201a8"
            ],
            [
             0.3333333333333333,
             "#9c179e"
            ],
            [
             0.4444444444444444,
             "#bd3786"
            ],
            [
             0.5555555555555556,
             "#d8576b"
            ],
            [
             0.6666666666666666,
             "#ed7953"
            ],
            [
             0.7777777777777778,
             "#fb9f3a"
            ],
            [
             0.8888888888888888,
             "#fdca26"
            ],
            [
             1,
             "#f0f921"
            ]
           ],
           "sequentialminus": [
            [
             0,
             "#0d0887"
            ],
            [
             0.1111111111111111,
             "#46039f"
            ],
            [
             0.2222222222222222,
             "#7201a8"
            ],
            [
             0.3333333333333333,
             "#9c179e"
            ],
            [
             0.4444444444444444,
             "#bd3786"
            ],
            [
             0.5555555555555556,
             "#d8576b"
            ],
            [
             0.6666666666666666,
             "#ed7953"
            ],
            [
             0.7777777777777778,
             "#fb9f3a"
            ],
            [
             0.8888888888888888,
             "#fdca26"
            ],
            [
             1,
             "#f0f921"
            ]
           ]
          },
          "colorway": [
           "#636efa",
           "#EF553B",
           "#00cc96",
           "#ab63fa",
           "#FFA15A",
           "#19d3f3",
           "#FF6692",
           "#B6E880",
           "#FF97FF",
           "#FECB52"
          ],
          "font": {
           "color": "#2a3f5f"
          },
          "geo": {
           "bgcolor": "white",
           "lakecolor": "white",
           "landcolor": "#E5ECF6",
           "showlakes": true,
           "showland": true,
           "subunitcolor": "white"
          },
          "hoverlabel": {
           "align": "left"
          },
          "hovermode": "closest",
          "mapbox": {
           "style": "light"
          },
          "paper_bgcolor": "white",
          "plot_bgcolor": "#E5ECF6",
          "polar": {
           "angularaxis": {
            "gridcolor": "white",
            "linecolor": "white",
            "ticks": ""
           },
           "bgcolor": "#E5ECF6",
           "radialaxis": {
            "gridcolor": "white",
            "linecolor": "white",
            "ticks": ""
           }
          },
          "scene": {
           "xaxis": {
            "backgroundcolor": "#E5ECF6",
            "gridcolor": "white",
            "gridwidth": 2,
            "linecolor": "white",
            "showbackground": true,
            "ticks": "",
            "zerolinecolor": "white"
           },
           "yaxis": {
            "backgroundcolor": "#E5ECF6",
            "gridcolor": "white",
            "gridwidth": 2,
            "linecolor": "white",
            "showbackground": true,
            "ticks": "",
            "zerolinecolor": "white"
           },
           "zaxis": {
            "backgroundcolor": "#E5ECF6",
            "gridcolor": "white",
            "gridwidth": 2,
            "linecolor": "white",
            "showbackground": true,
            "ticks": "",
            "zerolinecolor": "white"
           }
          },
          "shapedefaults": {
           "line": {
            "color": "#2a3f5f"
           }
          },
          "ternary": {
           "aaxis": {
            "gridcolor": "white",
            "linecolor": "white",
            "ticks": ""
           },
           "baxis": {
            "gridcolor": "white",
            "linecolor": "white",
            "ticks": ""
           },
           "bgcolor": "#E5ECF6",
           "caxis": {
            "gridcolor": "white",
            "linecolor": "white",
            "ticks": ""
           }
          },
          "title": {
           "x": 0.05
          },
          "xaxis": {
           "automargin": true,
           "gridcolor": "white",
           "linecolor": "white",
           "ticks": "",
           "title": {
            "standoff": 15
           },
           "zerolinecolor": "white",
           "zerolinewidth": 2
          },
          "yaxis": {
           "automargin": true,
           "gridcolor": "white",
           "linecolor": "white",
           "ticks": "",
           "title": {
            "standoff": 15
           },
           "zerolinecolor": "white",
           "zerolinewidth": 2
          }
         }
        },
        "title": {
         "text": "Relationship between GDP Per Capita and Life Expectancy"
        },
        "xaxis": {
         "anchor": "y",
         "domain": [
          0,
          1
         ],
         "title": {
          "text": "GDP Per Capita"
         }
        },
        "yaxis": {
         "anchor": "x",
         "domain": [
          0,
          1
         ],
         "title": {
          "text": "Life Expectancy"
         }
        }
       }
      }
     },
     "metadata": {},
     "output_type": "display_data"
    }
   ],
   "source": [
    "# Display scatter plot\n",
    "plot = life_gdp(df1)"
   ]
  },
  {
   "attachments": {},
   "cell_type": "markdown",
   "metadata": {},
   "source": [
    "As clearly shown on the graph, there is a positive relationship between the GDP per capita and the life expectancy of world countries. The relationship represented by the line of linear regression is maintained despite the appearance of the figure for `Monaco` as an outlier.\n",
    "\n",
    "---"
   ]
  },
  {
   "attachments": {},
   "cell_type": "markdown",
   "metadata": {},
   "source": [
    "Subsequently, we will find the average life expectancy for each region and use a bar graph to illustrate this. "
   ]
  },
  {
   "cell_type": "code",
   "execution_count": 9,
   "metadata": {},
   "outputs": [
    {
     "data": {
      "text/html": [
       "<div>\n",
       "<style scoped>\n",
       "    .dataframe tbody tr th:only-of-type {\n",
       "        vertical-align: middle;\n",
       "    }\n",
       "\n",
       "    .dataframe tbody tr th {\n",
       "        vertical-align: top;\n",
       "    }\n",
       "\n",
       "    .dataframe thead th {\n",
       "        text-align: right;\n",
       "    }\n",
       "</style>\n",
       "<table border=\"1\" class=\"dataframe\">\n",
       "  <thead>\n",
       "    <tr style=\"text-align: right;\">\n",
       "      <th></th>\n",
       "      <th>region</th>\n",
       "      <th>average_life</th>\n",
       "    </tr>\n",
       "  </thead>\n",
       "  <tbody>\n",
       "    <tr>\n",
       "      <th>0</th>\n",
       "      <td>Sub-Saharan Africa</td>\n",
       "      <td>61.536585</td>\n",
       "    </tr>\n",
       "    <tr>\n",
       "      <th>1</th>\n",
       "      <td>South Asia</td>\n",
       "      <td>70.525000</td>\n",
       "    </tr>\n",
       "    <tr>\n",
       "      <th>2</th>\n",
       "      <td>Latin America &amp; Caribbean</td>\n",
       "      <td>72.839394</td>\n",
       "    </tr>\n",
       "    <tr>\n",
       "      <th>3</th>\n",
       "      <td>East Asia &amp; Pacific</td>\n",
       "      <td>73.110345</td>\n",
       "    </tr>\n",
       "    <tr>\n",
       "      <th>4</th>\n",
       "      <td>Middle East &amp; North Africa</td>\n",
       "      <td>75.268750</td>\n",
       "    </tr>\n",
       "    <tr>\n",
       "      <th>5</th>\n",
       "      <td>Europe &amp; Central Asia</td>\n",
       "      <td>77.661702</td>\n",
       "    </tr>\n",
       "    <tr>\n",
       "      <th>6</th>\n",
       "      <td>North America</td>\n",
       "      <td>79.733333</td>\n",
       "    </tr>\n",
       "  </tbody>\n",
       "</table>\n",
       "</div>"
      ],
      "text/plain": [
       "                       region  average_life\n",
       "0          Sub-Saharan Africa     61.536585\n",
       "1                  South Asia     70.525000\n",
       "2   Latin America & Caribbean     72.839394\n",
       "3         East Asia & Pacific     73.110345\n",
       "4  Middle East & North Africa     75.268750\n",
       "5       Europe & Central Asia     77.661702\n",
       "6               North America     79.733333"
      ]
     },
     "execution_count": 9,
     "metadata": {},
     "output_type": "execute_result"
    }
   ],
   "source": [
    "query2 = \"\"\"\n",
    "SELECT region, AVG(life) AS average_life\n",
    "FROM indicators\n",
    "WHERE gdp_per_capita IS NOT NULL and life IS NOT NULL\n",
    "GROUP BY region\n",
    "ORDER BY average_life \n",
    "\"\"\"\n",
    "\n",
    "df2 = pd.read_sql_query(query2, con=connection)\n",
    "df2.head(10)"
   ]
  },
  {
   "cell_type": "code",
   "execution_count": 10,
   "metadata": {},
   "outputs": [
    {
     "data": {
      "application/vnd.plotly.v1+json": {
       "config": {
        "plotlyServerURL": "https://plot.ly"
       },
       "data": [
        {
         "alignmentgroup": "True",
         "hovertemplate": "Regions=%{x}<br>Life Expectancy=%{marker.color}<extra></extra>",
         "legendgroup": "",
         "marker": {
          "color": [
           61.53658536585364,
           70.52499999999999,
           72.83939393939394,
           73.1103448275862,
           75.26875,
           77.66170212765957,
           79.73333333333333
          ],
          "coloraxis": "coloraxis",
          "pattern": {
           "shape": ""
          }
         },
         "name": "",
         "offsetgroup": "",
         "orientation": "v",
         "showlegend": false,
         "textposition": "auto",
         "type": "bar",
         "x": [
          "Sub-Saharan Africa",
          "South Asia",
          "Latin America & Caribbean",
          "East Asia & Pacific",
          "Middle East & North Africa",
          "Europe & Central Asia",
          "North America"
         ],
         "xaxis": "x",
         "y": [
          61.53658536585364,
          70.52499999999999,
          72.83939393939394,
          73.1103448275862,
          75.26875,
          77.66170212765957,
          79.73333333333333
         ],
         "yaxis": "y"
        }
       ],
       "layout": {
        "barmode": "relative",
        "coloraxis": {
         "colorbar": {
          "title": {
           "text": "Life Expectancy"
          }
         },
         "colorscale": [
          [
           0,
           "#0d0887"
          ],
          [
           0.1111111111111111,
           "#46039f"
          ],
          [
           0.2222222222222222,
           "#7201a8"
          ],
          [
           0.3333333333333333,
           "#9c179e"
          ],
          [
           0.4444444444444444,
           "#bd3786"
          ],
          [
           0.5555555555555556,
           "#d8576b"
          ],
          [
           0.6666666666666666,
           "#ed7953"
          ],
          [
           0.7777777777777778,
           "#fb9f3a"
          ],
          [
           0.8888888888888888,
           "#fdca26"
          ],
          [
           1,
           "#f0f921"
          ]
         ]
        },
        "height": 600,
        "legend": {
         "tracegroupgap": 0
        },
        "template": {
         "data": {
          "bar": [
           {
            "error_x": {
             "color": "#2a3f5f"
            },
            "error_y": {
             "color": "#2a3f5f"
            },
            "marker": {
             "line": {
              "color": "#E5ECF6",
              "width": 0.5
             },
             "pattern": {
              "fillmode": "overlay",
              "size": 10,
              "solidity": 0.2
             }
            },
            "type": "bar"
           }
          ],
          "barpolar": [
           {
            "marker": {
             "line": {
              "color": "#E5ECF6",
              "width": 0.5
             },
             "pattern": {
              "fillmode": "overlay",
              "size": 10,
              "solidity": 0.2
             }
            },
            "type": "barpolar"
           }
          ],
          "carpet": [
           {
            "aaxis": {
             "endlinecolor": "#2a3f5f",
             "gridcolor": "white",
             "linecolor": "white",
             "minorgridcolor": "white",
             "startlinecolor": "#2a3f5f"
            },
            "baxis": {
             "endlinecolor": "#2a3f5f",
             "gridcolor": "white",
             "linecolor": "white",
             "minorgridcolor": "white",
             "startlinecolor": "#2a3f5f"
            },
            "type": "carpet"
           }
          ],
          "choropleth": [
           {
            "colorbar": {
             "outlinewidth": 0,
             "ticks": ""
            },
            "type": "choropleth"
           }
          ],
          "contour": [
           {
            "colorbar": {
             "outlinewidth": 0,
             "ticks": ""
            },
            "colorscale": [
             [
              0,
              "#0d0887"
             ],
             [
              0.1111111111111111,
              "#46039f"
             ],
             [
              0.2222222222222222,
              "#7201a8"
             ],
             [
              0.3333333333333333,
              "#9c179e"
             ],
             [
              0.4444444444444444,
              "#bd3786"
             ],
             [
              0.5555555555555556,
              "#d8576b"
             ],
             [
              0.6666666666666666,
              "#ed7953"
             ],
             [
              0.7777777777777778,
              "#fb9f3a"
             ],
             [
              0.8888888888888888,
              "#fdca26"
             ],
             [
              1,
              "#f0f921"
             ]
            ],
            "type": "contour"
           }
          ],
          "contourcarpet": [
           {
            "colorbar": {
             "outlinewidth": 0,
             "ticks": ""
            },
            "type": "contourcarpet"
           }
          ],
          "heatmap": [
           {
            "colorbar": {
             "outlinewidth": 0,
             "ticks": ""
            },
            "colorscale": [
             [
              0,
              "#0d0887"
             ],
             [
              0.1111111111111111,
              "#46039f"
             ],
             [
              0.2222222222222222,
              "#7201a8"
             ],
             [
              0.3333333333333333,
              "#9c179e"
             ],
             [
              0.4444444444444444,
              "#bd3786"
             ],
             [
              0.5555555555555556,
              "#d8576b"
             ],
             [
              0.6666666666666666,
              "#ed7953"
             ],
             [
              0.7777777777777778,
              "#fb9f3a"
             ],
             [
              0.8888888888888888,
              "#fdca26"
             ],
             [
              1,
              "#f0f921"
             ]
            ],
            "type": "heatmap"
           }
          ],
          "heatmapgl": [
           {
            "colorbar": {
             "outlinewidth": 0,
             "ticks": ""
            },
            "colorscale": [
             [
              0,
              "#0d0887"
             ],
             [
              0.1111111111111111,
              "#46039f"
             ],
             [
              0.2222222222222222,
              "#7201a8"
             ],
             [
              0.3333333333333333,
              "#9c179e"
             ],
             [
              0.4444444444444444,
              "#bd3786"
             ],
             [
              0.5555555555555556,
              "#d8576b"
             ],
             [
              0.6666666666666666,
              "#ed7953"
             ],
             [
              0.7777777777777778,
              "#fb9f3a"
             ],
             [
              0.8888888888888888,
              "#fdca26"
             ],
             [
              1,
              "#f0f921"
             ]
            ],
            "type": "heatmapgl"
           }
          ],
          "histogram": [
           {
            "marker": {
             "pattern": {
              "fillmode": "overlay",
              "size": 10,
              "solidity": 0.2
             }
            },
            "type": "histogram"
           }
          ],
          "histogram2d": [
           {
            "colorbar": {
             "outlinewidth": 0,
             "ticks": ""
            },
            "colorscale": [
             [
              0,
              "#0d0887"
             ],
             [
              0.1111111111111111,
              "#46039f"
             ],
             [
              0.2222222222222222,
              "#7201a8"
             ],
             [
              0.3333333333333333,
              "#9c179e"
             ],
             [
              0.4444444444444444,
              "#bd3786"
             ],
             [
              0.5555555555555556,
              "#d8576b"
             ],
             [
              0.6666666666666666,
              "#ed7953"
             ],
             [
              0.7777777777777778,
              "#fb9f3a"
             ],
             [
              0.8888888888888888,
              "#fdca26"
             ],
             [
              1,
              "#f0f921"
             ]
            ],
            "type": "histogram2d"
           }
          ],
          "histogram2dcontour": [
           {
            "colorbar": {
             "outlinewidth": 0,
             "ticks": ""
            },
            "colorscale": [
             [
              0,
              "#0d0887"
             ],
             [
              0.1111111111111111,
              "#46039f"
             ],
             [
              0.2222222222222222,
              "#7201a8"
             ],
             [
              0.3333333333333333,
              "#9c179e"
             ],
             [
              0.4444444444444444,
              "#bd3786"
             ],
             [
              0.5555555555555556,
              "#d8576b"
             ],
             [
              0.6666666666666666,
              "#ed7953"
             ],
             [
              0.7777777777777778,
              "#fb9f3a"
             ],
             [
              0.8888888888888888,
              "#fdca26"
             ],
             [
              1,
              "#f0f921"
             ]
            ],
            "type": "histogram2dcontour"
           }
          ],
          "mesh3d": [
           {
            "colorbar": {
             "outlinewidth": 0,
             "ticks": ""
            },
            "type": "mesh3d"
           }
          ],
          "parcoords": [
           {
            "line": {
             "colorbar": {
              "outlinewidth": 0,
              "ticks": ""
             }
            },
            "type": "parcoords"
           }
          ],
          "pie": [
           {
            "automargin": true,
            "type": "pie"
           }
          ],
          "scatter": [
           {
            "marker": {
             "colorbar": {
              "outlinewidth": 0,
              "ticks": ""
             }
            },
            "type": "scatter"
           }
          ],
          "scatter3d": [
           {
            "line": {
             "colorbar": {
              "outlinewidth": 0,
              "ticks": ""
             }
            },
            "marker": {
             "colorbar": {
              "outlinewidth": 0,
              "ticks": ""
             }
            },
            "type": "scatter3d"
           }
          ],
          "scattercarpet": [
           {
            "marker": {
             "colorbar": {
              "outlinewidth": 0,
              "ticks": ""
             }
            },
            "type": "scattercarpet"
           }
          ],
          "scattergeo": [
           {
            "marker": {
             "colorbar": {
              "outlinewidth": 0,
              "ticks": ""
             }
            },
            "type": "scattergeo"
           }
          ],
          "scattergl": [
           {
            "marker": {
             "colorbar": {
              "outlinewidth": 0,
              "ticks": ""
             }
            },
            "type": "scattergl"
           }
          ],
          "scattermapbox": [
           {
            "marker": {
             "colorbar": {
              "outlinewidth": 0,
              "ticks": ""
             }
            },
            "type": "scattermapbox"
           }
          ],
          "scatterpolar": [
           {
            "marker": {
             "colorbar": {
              "outlinewidth": 0,
              "ticks": ""
             }
            },
            "type": "scatterpolar"
           }
          ],
          "scatterpolargl": [
           {
            "marker": {
             "colorbar": {
              "outlinewidth": 0,
              "ticks": ""
             }
            },
            "type": "scatterpolargl"
           }
          ],
          "scatterternary": [
           {
            "marker": {
             "colorbar": {
              "outlinewidth": 0,
              "ticks": ""
             }
            },
            "type": "scatterternary"
           }
          ],
          "surface": [
           {
            "colorbar": {
             "outlinewidth": 0,
             "ticks": ""
            },
            "colorscale": [
             [
              0,
              "#0d0887"
             ],
             [
              0.1111111111111111,
              "#46039f"
             ],
             [
              0.2222222222222222,
              "#7201a8"
             ],
             [
              0.3333333333333333,
              "#9c179e"
             ],
             [
              0.4444444444444444,
              "#bd3786"
             ],
             [
              0.5555555555555556,
              "#d8576b"
             ],
             [
              0.6666666666666666,
              "#ed7953"
             ],
             [
              0.7777777777777778,
              "#fb9f3a"
             ],
             [
              0.8888888888888888,
              "#fdca26"
             ],
             [
              1,
              "#f0f921"
             ]
            ],
            "type": "surface"
           }
          ],
          "table": [
           {
            "cells": {
             "fill": {
              "color": "#EBF0F8"
             },
             "line": {
              "color": "white"
             }
            },
            "header": {
             "fill": {
              "color": "#C8D4E3"
             },
             "line": {
              "color": "white"
             }
            },
            "type": "table"
           }
          ]
         },
         "layout": {
          "annotationdefaults": {
           "arrowcolor": "#2a3f5f",
           "arrowhead": 0,
           "arrowwidth": 1
          },
          "autotypenumbers": "strict",
          "coloraxis": {
           "colorbar": {
            "outlinewidth": 0,
            "ticks": ""
           }
          },
          "colorscale": {
           "diverging": [
            [
             0,
             "#8e0152"
            ],
            [
             0.1,
             "#c51b7d"
            ],
            [
             0.2,
             "#de77ae"
            ],
            [
             0.3,
             "#f1b6da"
            ],
            [
             0.4,
             "#fde0ef"
            ],
            [
             0.5,
             "#f7f7f7"
            ],
            [
             0.6,
             "#e6f5d0"
            ],
            [
             0.7,
             "#b8e186"
            ],
            [
             0.8,
             "#7fbc41"
            ],
            [
             0.9,
             "#4d9221"
            ],
            [
             1,
             "#276419"
            ]
           ],
           "sequential": [
            [
             0,
             "#0d0887"
            ],
            [
             0.1111111111111111,
             "#46039f"
            ],
            [
             0.2222222222222222,
             "#7201a8"
            ],
            [
             0.3333333333333333,
             "#9c179e"
            ],
            [
             0.4444444444444444,
             "#bd3786"
            ],
            [
             0.5555555555555556,
             "#d8576b"
            ],
            [
             0.6666666666666666,
             "#ed7953"
            ],
            [
             0.7777777777777778,
             "#fb9f3a"
            ],
            [
             0.8888888888888888,
             "#fdca26"
            ],
            [
             1,
             "#f0f921"
            ]
           ],
           "sequentialminus": [
            [
             0,
             "#0d0887"
            ],
            [
             0.1111111111111111,
             "#46039f"
            ],
            [
             0.2222222222222222,
             "#7201a8"
            ],
            [
             0.3333333333333333,
             "#9c179e"
            ],
            [
             0.4444444444444444,
             "#bd3786"
            ],
            [
             0.5555555555555556,
             "#d8576b"
            ],
            [
             0.6666666666666666,
             "#ed7953"
            ],
            [
             0.7777777777777778,
             "#fb9f3a"
            ],
            [
             0.8888888888888888,
             "#fdca26"
            ],
            [
             1,
             "#f0f921"
            ]
           ]
          },
          "colorway": [
           "#636efa",
           "#EF553B",
           "#00cc96",
           "#ab63fa",
           "#FFA15A",
           "#19d3f3",
           "#FF6692",
           "#B6E880",
           "#FF97FF",
           "#FECB52"
          ],
          "font": {
           "color": "#2a3f5f"
          },
          "geo": {
           "bgcolor": "white",
           "lakecolor": "white",
           "landcolor": "#E5ECF6",
           "showlakes": true,
           "showland": true,
           "subunitcolor": "white"
          },
          "hoverlabel": {
           "align": "left"
          },
          "hovermode": "closest",
          "mapbox": {
           "style": "light"
          },
          "paper_bgcolor": "white",
          "plot_bgcolor": "#E5ECF6",
          "polar": {
           "angularaxis": {
            "gridcolor": "white",
            "linecolor": "white",
            "ticks": ""
           },
           "bgcolor": "#E5ECF6",
           "radialaxis": {
            "gridcolor": "white",
            "linecolor": "white",
            "ticks": ""
           }
          },
          "scene": {
           "xaxis": {
            "backgroundcolor": "#E5ECF6",
            "gridcolor": "white",
            "gridwidth": 2,
            "linecolor": "white",
            "showbackground": true,
            "ticks": "",
            "zerolinecolor": "white"
           },
           "yaxis": {
            "backgroundcolor": "#E5ECF6",
            "gridcolor": "white",
            "gridwidth": 2,
            "linecolor": "white",
            "showbackground": true,
            "ticks": "",
            "zerolinecolor": "white"
           },
           "zaxis": {
            "backgroundcolor": "#E5ECF6",
            "gridcolor": "white",
            "gridwidth": 2,
            "linecolor": "white",
            "showbackground": true,
            "ticks": "",
            "zerolinecolor": "white"
           }
          },
          "shapedefaults": {
           "line": {
            "color": "#2a3f5f"
           }
          },
          "ternary": {
           "aaxis": {
            "gridcolor": "white",
            "linecolor": "white",
            "ticks": ""
           },
           "baxis": {
            "gridcolor": "white",
            "linecolor": "white",
            "ticks": ""
           },
           "bgcolor": "#E5ECF6",
           "caxis": {
            "gridcolor": "white",
            "linecolor": "white",
            "ticks": ""
           }
          },
          "title": {
           "x": 0.05
          },
          "xaxis": {
           "automargin": true,
           "gridcolor": "white",
           "linecolor": "white",
           "ticks": "",
           "title": {
            "standoff": 15
           },
           "zerolinecolor": "white",
           "zerolinewidth": 2
          },
          "yaxis": {
           "automargin": true,
           "gridcolor": "white",
           "linecolor": "white",
           "ticks": "",
           "title": {
            "standoff": 15
           },
           "zerolinecolor": "white",
           "zerolinewidth": 2
          }
         }
        },
        "title": {
         "text": "Average Life Expectancy by Regions"
        },
        "xaxis": {
         "anchor": "y",
         "domain": [
          0,
          1
         ],
         "title": {
          "text": "Regions"
         }
        },
        "yaxis": {
         "anchor": "x",
         "domain": [
          0,
          1
         ],
         "title": {
          "text": "Life Expectancy"
         }
        }
       }
      }
     },
     "metadata": {},
     "output_type": "display_data"
    }
   ],
   "source": [
    "# Display bar graph\n",
    "fig = px.bar(df2, x='region', y='average_life',\n",
    "             title = \"Average Life Expectancy by Regions\",\n",
    "             hover_data=['region', 'average_life'], color='average_life',\n",
    "             labels={'region': 'Regions', 'average_life': 'Life Expectancy'}, height=600)\n",
    "fig.show()"
   ]
  },
  {
   "attachments": {},
   "cell_type": "markdown",
   "metadata": {},
   "source": [
    "### <b>Analysis</b>\n",
    "\n",
    "Countries with higher economic development record higher life expectancy, as evidenced by the top positions of North America (USA, Canada, etc.) and Europe & Central Asia. On the other hand, we can observe lower records of average lifespan from those with lower economic growth (Sub-Saharan Africa and South Asia).\n",
    "\n",
    "---"
   ]
  },
  {
   "attachments": {},
   "cell_type": "markdown",
   "metadata": {},
   "source": [
    "Then, we will use SQL queries to find separate countries into 2 groups: high GDP per capita and low GDP per capita. The differentiation point will be the value of mean GDP per capita.\n",
    "\n",
    "We will perform queries to find group with high and low GDP per capita and label them as 1 and 0, respectively. The queries will also provide the average life expectancy for each group. "
   ]
  },
  {
   "cell_type": "code",
   "execution_count": 11,
   "metadata": {},
   "outputs": [
    {
     "data": {
      "text/html": [
       "<div>\n",
       "<style scoped>\n",
       "    .dataframe tbody tr th:only-of-type {\n",
       "        vertical-align: middle;\n",
       "    }\n",
       "\n",
       "    .dataframe tbody tr th {\n",
       "        vertical-align: top;\n",
       "    }\n",
       "\n",
       "    .dataframe thead th {\n",
       "        text-align: right;\n",
       "    }\n",
       "</style>\n",
       "<table border=\"1\" class=\"dataframe\">\n",
       "  <thead>\n",
       "    <tr style=\"text-align: right;\">\n",
       "      <th></th>\n",
       "      <th>low_high_group</th>\n",
       "      <th>avg_life</th>\n",
       "    </tr>\n",
       "  </thead>\n",
       "  <tbody>\n",
       "    <tr>\n",
       "      <th>0</th>\n",
       "      <td>0</td>\n",
       "      <td>68.562791</td>\n",
       "    </tr>\n",
       "    <tr>\n",
       "      <th>1</th>\n",
       "      <td>1</td>\n",
       "      <td>80.418750</td>\n",
       "    </tr>\n",
       "  </tbody>\n",
       "</table>\n",
       "</div>"
      ],
      "text/plain": [
       "   low_high_group   avg_life\n",
       "0               0  68.562791\n",
       "1               1  80.418750"
      ]
     },
     "execution_count": 11,
     "metadata": {},
     "output_type": "execute_result"
    }
   ],
   "source": [
    "query3 = \"\"\"\n",
    "SELECT low_high_group, AVG(life) AS avg_life\n",
    "FROM (SELECT country_and_area, life, gdp_per_capita > (SELECT AVG(gdp_per_capita)\n",
    "                                                                 FROM indicators) AS low_high_group\n",
    "      FROM indicators\n",
    "      WHERE gdp_per_capita IS NOT NULL)\n",
    "GROUP BY low_high_group\n",
    "\"\"\"\n",
    "\n",
    "df3 = pd.read_sql_query(query3, con=connection)\n",
    "df3"
   ]
  },
  {
   "attachments": {},
   "cell_type": "markdown",
   "metadata": {},
   "source": [
    "As seen above, the average life expectancy of countries in the high GDP per capita group is higher than that of the other. Moreover, there is a significantly discernible discrepancy between the average life expectancy of 2 groups, which is approximately 12 years."
   ]
  },
  {
   "cell_type": "code",
   "execution_count": 12,
   "metadata": {},
   "outputs": [],
   "source": [
    "# Close the connection\n",
    "try:\n",
    "    connection.close()\n",
    "except:\n",
    "    pass\n",
    "del engine"
   ]
  },
  {
   "attachments": {},
   "cell_type": "markdown",
   "metadata": {},
   "source": [
    "---"
   ]
  },
  {
   "attachments": {},
   "cell_type": "markdown",
   "metadata": {},
   "source": [
    "## <b>Conclusion</b>\n",
    "\n",
    "Up to this point, we have performed SQL queries and plotted graphs to see the following phenomena:\n",
    "- The rise of average life expectancy quite precisely reflects the level of economic development of 7 fields of regions.\n",
    "- The average life expectancy of countries with high GDP per capita is higher than that of countries with low GDP per capita.\n",
    "\n",
    "=> There is a high alignment betweeh the average life expectancy and the level of economic development (which is epitomized by GDP per capita). \n",
    "\n",
    "=> The 2021 database helps reveal that <font color='gold'><b> The GDP per capita has a direct correlation with the life expectancy of world countries</b></font>."
   ]
  },
  {
   "attachments": {},
   "cell_type": "markdown",
   "metadata": {},
   "source": [
    "---\n",
    "---\n",
    "### <b>References</b>\n",
    "1. gdp.xml: https://data.worldbank.org/indicator/NY.GDP.PCAP.CD?end=2019&start=1960\n",
    "\n",
    "2. life.html: https://en.wikipedia.org/wiki/List_of_countries_by_life_expectancy#World_Health_Organization_(2019)\n",
    "\n",
    "3. countries.csv: http://datasystems.denison.edu/data.html"
   ]
  }
 ],
 "metadata": {
  "kernelspec": {
   "display_name": "Python 3.9.12 ('base')",
   "language": "python",
   "name": "python3"
  },
  "language_info": {
   "codemirror_mode": {
    "name": "ipython",
    "version": 3
   },
   "file_extension": ".py",
   "mimetype": "text/x-python",
   "name": "python",
   "nbconvert_exporter": "python",
   "pygments_lexer": "ipython3",
   "version": "3.9.12"
  },
  "orig_nbformat": 4,
  "vscode": {
   "interpreter": {
    "hash": "69f09ae17776cb48d8d42a4038622bdf86f72d7b2ba30339363e3bf2967a9aa0"
   }
  }
 },
 "nbformat": 4,
 "nbformat_minor": 2
}
